{
 "cells": [
  {
   "cell_type": "markdown",
   "id": "3bb1ee6d",
   "metadata": {},
   "source": [
    "## Operators\n",
    "\n",
    "operators is a special symbols that performs certain operation\n"
   ]
  },
  {
   "cell_type": "markdown",
   "id": "660122ae",
   "metadata": {},
   "source": [
    "## Types of Operators\n",
    "- Arithmetic operators\n",
    "- Asiingment operators\n",
    "- Compound  assingment operators\n",
    "- Comparison Operators\n",
    "- Logical operators\n",
    "- identity opertors\n",
    "- membership operators\n"
   ]
  },
  {
   "cell_type": "code",
   "execution_count": null,
   "id": "69159007",
   "metadata": {},
   "outputs": [],
   "source": []
  },
  {
   "cell_type": "markdown",
   "id": "36659aaa",
   "metadata": {},
   "source": [
    "# Arithmetic operators\n",
    "## addition +\n",
    "## subtraction -\n",
    "## multiplication *\n",
    "## single division /\n",
    "## Double division OR floor Divison //\n",
    "## Modulus %\n",
    "## Exponential OR power **\n",
    "    "
   ]
  },
  {
   "cell_type": "code",
   "execution_count": null,
   "id": "2d6ed8ef",
   "metadata": {},
   "outputs": [],
   "source": []
  },
  {
   "cell_type": "code",
   "execution_count": null,
   "id": "c0176920",
   "metadata": {},
   "outputs": [],
   "source": []
  },
  {
   "cell_type": "code",
   "execution_count": 7,
   "id": "365758e7",
   "metadata": {},
   "outputs": [
    {
     "name": "stdout",
     "output_type": "stream",
     "text": [
      "enter a 6\n",
      "enter b 4\n",
      "10\n"
     ]
    }
   ],
   "source": [
    "a=int(input('enter a '))\n",
    "b=int(input('enter b '))\n",
    "print(a+b)\n"
   ]
  },
  {
   "cell_type": "code",
   "execution_count": 8,
   "id": "9afd2e3f",
   "metadata": {},
   "outputs": [
    {
     "name": "stdout",
     "output_type": "stream",
     "text": [
      "1.5\n",
      "1\n"
     ]
    }
   ],
   "source": [
    "\n",
    "print(a/b) # it gives the values in float\n",
    "print(a//b)# it gives the values in int"
   ]
  },
  {
   "cell_type": "code",
   "execution_count": 8,
   "id": "20d8772d",
   "metadata": {},
   "outputs": [
    {
     "name": "stdout",
     "output_type": "stream",
     "text": [
      "2\n"
     ]
    }
   ],
   "source": [
    "print(a%b)"
   ]
  },
  {
   "cell_type": "code",
   "execution_count": 13,
   "id": "9959ce53",
   "metadata": {},
   "outputs": [
    {
     "name": "stdout",
     "output_type": "stream",
     "text": [
      "1296\n"
     ]
    }
   ],
   "source": [
    "print(a**b)"
   ]
  },
  {
   "cell_type": "code",
   "execution_count": null,
   "id": "73f45d27",
   "metadata": {},
   "outputs": [],
   "source": [
    "(),**,*,/,//,%,+,-"
   ]
  },
  {
   "cell_type": "code",
   "execution_count": null,
   "id": "84c3e218",
   "metadata": {},
   "outputs": [],
   "source": []
  },
  {
   "cell_type": "markdown",
   "id": "2e4b130e",
   "metadata": {},
   "source": [
    "# Assingment ( = )"
   ]
  },
  {
   "cell_type": "code",
   "execution_count": 14,
   "id": "76ff8cb8",
   "metadata": {},
   "outputs": [
    {
     "name": "stdout",
     "output_type": "stream",
     "text": [
      "10\n"
     ]
    }
   ],
   "source": [
    "x=10\n",
    "print(x)\n"
   ]
  },
  {
   "cell_type": "code",
   "execution_count": null,
   "id": "84223cbe",
   "metadata": {},
   "outputs": [],
   "source": []
  },
  {
   "cell_type": "markdown",
   "id": "7eb98a3f",
   "metadata": {},
   "source": [
    "# compound assingmnent"
   ]
  },
  {
   "cell_type": "code",
   "execution_count": 17,
   "id": "af7ec150",
   "metadata": {},
   "outputs": [
    {
     "name": "stdout",
     "output_type": "stream",
     "text": [
      "46\n"
     ]
    }
   ],
   "source": [
    "\n",
    "y=23\n",
    "y*= 2   #y=y*2\n",
    "print(y)"
   ]
  },
  {
   "cell_type": "code",
   "execution_count": null,
   "id": "837a95da",
   "metadata": {},
   "outputs": [],
   "source": []
  },
  {
   "cell_type": "markdown",
   "id": "56f2c0f5",
   "metadata": {},
   "source": [
    "# comparison operator"
   ]
  },
  {
   "cell_type": "code",
   "execution_count": null,
   "id": "c1b9b26f",
   "metadata": {},
   "outputs": [],
   "source": [
    "== equal to\n",
    "!= not equal yo\n",
    "> greate than\n",
    "<= less than equal to\n",
    ">= greater than equal to\n",
    "< less than\n"
   ]
  },
  {
   "cell_type": "code",
   "execution_count": 24,
   "id": "986ccbbe",
   "metadata": {},
   "outputs": [
    {
     "name": "stdout",
     "output_type": "stream",
     "text": [
      "False\n",
      "False\n",
      "True\n",
      "True\n",
      "False\n",
      "True\n",
      "True\n"
     ]
    }
   ],
   "source": [
    "x=55\n",
    "y=78\n",
    "print(x==y)\n",
    "print(x>y)\n",
    "print(x<y)\n",
    "print(x!=y)\n",
    "print(x>=y)\n",
    "print(y>=x)\n",
    "print(x<=y)"
   ]
  },
  {
   "cell_type": "code",
   "execution_count": 30,
   "id": "b34c0279",
   "metadata": {},
   "outputs": [
    {
     "name": "stdout",
     "output_type": "stream",
     "text": [
      "False\n",
      "True\n",
      "False\n",
      "False\n",
      "True\n",
      "True\n"
     ]
    }
   ],
   "source": [
    "x=22\n",
    "y=22\n",
    "print(x!=y)\n",
    "print(x==y)\n",
    "print(x>y)\n",
    "print(x<y)\n",
    "print(x>=y)\n",
    "print(x<=y)"
   ]
  },
  {
   "cell_type": "code",
   "execution_count": 33,
   "id": "2b8ac28a",
   "metadata": {},
   "outputs": [
    {
     "name": "stdout",
     "output_type": "stream",
     "text": [
      "False\n"
     ]
    }
   ],
   "source": [
    "x='deepanshu'\n",
    "y='deepanshi'\n",
    "print(x<y)"
   ]
  },
  {
   "cell_type": "code",
   "execution_count": null,
   "id": "b7cac3a6",
   "metadata": {},
   "outputs": [],
   "source": [
    "20000\n",
    "20001"
   ]
  },
  {
   "cell_type": "code",
   "execution_count": 2,
   "id": "ea88660b",
   "metadata": {},
   "outputs": [
    {
     "name": "stdout",
     "output_type": "stream",
     "text": [
      ",\n"
     ]
    }
   ],
   "source": [
    "print(chr(44))"
   ]
  },
  {
   "cell_type": "code",
   "execution_count": 34,
   "id": "b8e4c6ca",
   "metadata": {},
   "outputs": [
    {
     "name": "stdout",
     "output_type": "stream",
     "text": [
      "97\n"
     ]
    }
   ],
   "source": [
    "print(ord('de'))"
   ]
  },
  {
   "cell_type": "code",
   "execution_count": 36,
   "id": "487bb824",
   "metadata": {},
   "outputs": [
    {
     "name": "stdout",
     "output_type": "stream",
     "text": [
      "65\n"
     ]
    }
   ],
   "source": [
    "print(ord('A'))"
   ]
  },
  {
   "cell_type": "code",
   "execution_count": 2,
   "id": "23c14138",
   "metadata": {},
   "outputs": [
    {
     "name": "stdout",
     "output_type": "stream",
     "text": [
      "J\n"
     ]
    }
   ],
   "source": [
    "print(chr(74))"
   ]
  },
  {
   "cell_type": "code",
   "execution_count": null,
   "id": "f8267df4",
   "metadata": {},
   "outputs": [],
   "source": []
  },
  {
   "cell_type": "markdown",
   "id": "4beb8784",
   "metadata": {},
   "source": [
    "# Logical operators\n",
    "## and : when both the inputs are true it gives true\n",
    "## or : when any one inputs are true then it returns true\n",
    "## not : it reverse the input it makes true to flase, and false to true"
   ]
  },
  {
   "cell_type": "code",
   "execution_count": 3,
   "id": "e688acab",
   "metadata": {},
   "outputs": [
    {
     "name": "stdout",
     "output_type": "stream",
     "text": [
      "False\n",
      "False\n",
      "False\n",
      "True\n"
     ]
    }
   ],
   "source": [
    "a=True\n",
    "b=False\n",
    "c=True\n",
    "d=False\n",
    "print(a and b)\n",
    "print(a and d)\n",
    "print(b and d)\n",
    "print(a and c)"
   ]
  },
  {
   "cell_type": "code",
   "execution_count": 48,
   "id": "10843f96",
   "metadata": {},
   "outputs": [
    {
     "name": "stdout",
     "output_type": "stream",
     "text": [
      "True\n",
      "False\n"
     ]
    }
   ],
   "source": [
    "print(a or b)\n",
    "print(b or d)"
   ]
  },
  {
   "cell_type": "code",
   "execution_count": 45,
   "id": "504155ae",
   "metadata": {},
   "outputs": [
    {
     "name": "stdout",
     "output_type": "stream",
     "text": [
      "True\n"
     ]
    }
   ],
   "source": [
    "print(a or c)"
   ]
  },
  {
   "cell_type": "code",
   "execution_count": 46,
   "id": "c8d78208",
   "metadata": {},
   "outputs": [
    {
     "name": "stdout",
     "output_type": "stream",
     "text": [
      "True\n"
     ]
    }
   ],
   "source": [
    "print(b or c)"
   ]
  },
  {
   "cell_type": "code",
   "execution_count": 49,
   "id": "bd12b9e3",
   "metadata": {},
   "outputs": [
    {
     "name": "stdout",
     "output_type": "stream",
     "text": [
      "False\n"
     ]
    }
   ],
   "source": [
    "z=True\n",
    "y=False\n",
    "print(not z)"
   ]
  },
  {
   "cell_type": "code",
   "execution_count": 50,
   "id": "887ec947",
   "metadata": {},
   "outputs": [
    {
     "name": "stdout",
     "output_type": "stream",
     "text": [
      "True\n"
     ]
    }
   ],
   "source": [
    "print(not y)"
   ]
  },
  {
   "cell_type": "code",
   "execution_count": 14,
   "id": "cc48076f",
   "metadata": {},
   "outputs": [
    {
     "name": "stdout",
     "output_type": "stream",
     "text": [
      "True\n"
     ]
    }
   ],
   "source": [
    "a=True\n",
    "b=False\n",
    "c=True\n",
    "d=False\n",
    "print((a and not d)or (b or not c))"
   ]
  },
  {
   "cell_type": "code",
   "execution_count": null,
   "id": "dc362bee",
   "metadata": {},
   "outputs": [],
   "source": []
  },
  {
   "cell_type": "markdown",
   "id": "5f432472",
   "metadata": {},
   "source": [
    "# identity operator\n",
    "## == compares the content of the varible\n",
    "## is compares the address of the varibale"
   ]
  },
  {
   "cell_type": "code",
   "execution_count": 20,
   "id": "b5eaef51",
   "metadata": {},
   "outputs": [
    {
     "name": "stdout",
     "output_type": "stream",
     "text": [
      "True\n",
      "True\n"
     ]
    }
   ],
   "source": [
    "x=10\n",
    "y=10\n",
    "print(x==y)\n",
    "print(x is y)"
   ]
  },
  {
   "cell_type": "code",
   "execution_count": 59,
   "id": "c51105a6",
   "metadata": {},
   "outputs": [
    {
     "name": "stdout",
     "output_type": "stream",
     "text": [
      "140735946762320\n",
      "140735946762320\n"
     ]
    }
   ],
   "source": [
    "print(id(x))\n",
    "print(id(y))"
   ]
  },
  {
   "cell_type": "code",
   "execution_count": 2,
   "id": "adef2033",
   "metadata": {},
   "outputs": [
    {
     "name": "stdout",
     "output_type": "stream",
     "text": [
      "False\n"
     ]
    }
   ],
   "source": [
    "a=10\n",
    "b=10.0\n",
    "print(a is b)"
   ]
  },
  {
   "cell_type": "code",
   "execution_count": null,
   "id": "3b5ed5b8",
   "metadata": {},
   "outputs": [],
   "source": []
  },
  {
   "cell_type": "markdown",
   "id": "2ac885b8",
   "metadata": {},
   "source": [
    "# Membership \n",
    "## in"
   ]
  },
  {
   "cell_type": "code",
   "execution_count": 22,
   "id": "5f8009cf",
   "metadata": {},
   "outputs": [
    {
     "name": "stdout",
     "output_type": "stream",
     "text": [
      "False\n"
     ]
    }
   ],
   "source": [
    "s=['Tushar Tomar']\n",
    "print('Tushar' in s)"
   ]
  },
  {
   "cell_type": "code",
   "execution_count": 4,
   "id": "5ceda029",
   "metadata": {},
   "outputs": [
    {
     "name": "stdout",
     "output_type": "stream",
     "text": [
      "True\n"
     ]
    }
   ],
   "source": [
    "c='Deepanshu verma'\n",
    "print(' ' in c)"
   ]
  },
  {
   "cell_type": "code",
   "execution_count": 3,
   "id": "6f9d1f25",
   "metadata": {},
   "outputs": [
    {
     "name": "stdout",
     "output_type": "stream",
     "text": [
      "True\n"
     ]
    }
   ],
   "source": [
    "k=['Deepanshu',' ',1,2,3,4,5,6,7,'  ']\n",
    "print( ' ' in k)"
   ]
  },
  {
   "cell_type": "code",
   "execution_count": 75,
   "id": "32beb2fe",
   "metadata": {},
   "outputs": [
    {
     "name": "stdout",
     "output_type": "stream",
     "text": [
      "462068072803536855906378252728602401551029028414946485847699333055955922805275437143\n"
     ]
    }
   ],
   "source": [
    "a=7\n",
    "print(a**99)"
   ]
  },
  {
   "cell_type": "code",
   "execution_count": 3,
   "id": "ee248e0f",
   "metadata": {},
   "outputs": [
    {
     "name": "stdout",
     "output_type": "stream",
     "text": [
      "True\n"
     ]
    }
   ],
   "source": [
    "a='Tushar'\n",
    "print('h' in a)"
   ]
  }
 ],
 "metadata": {
  "kernelspec": {
   "display_name": "Python 3 (ipykernel)",
   "language": "python",
   "name": "python3"
  },
  "language_info": {
   "codemirror_mode": {
    "name": "ipython",
    "version": 3
   },
   "file_extension": ".py",
   "mimetype": "text/x-python",
   "name": "python",
   "nbconvert_exporter": "python",
   "pygments_lexer": "ipython3",
   "version": "3.9.12"
  }
 },
 "nbformat": 4,
 "nbformat_minor": 5
}
